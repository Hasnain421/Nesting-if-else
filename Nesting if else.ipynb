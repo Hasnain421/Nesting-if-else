{
 "cells": [
  {
   "cell_type": "markdown",
   "id": "a48407a5-cdb7-44b7-8365-dce27bdfa6ad",
   "metadata": {},
   "source": [
    "# Nesting If Else"
   ]
  },
  {
   "cell_type": "code",
   "execution_count": null,
   "id": "f6070af5-6568-4a91-b86e-06c74dda1305",
   "metadata": {},
   "outputs": [],
   "source": [
    "account = input(\"Do you have a bank account? Y/N\")\n",
    "if account == \"Y\":\n",
    "    atm  = input(\"Do you have a valid /activated ATM Y/N\")\n",
    "    if atm==\"Y\":\n",
    "        balance = input(\"Do you have sufficient balance in account? Y/N\")\n",
    "        if balance ==\"Y\":\n",
    "            pin  = input(\"Have you entered a correct PIN code?\")\n",
    "            if pin == \"Y\":\n",
    "                print(\"You can withdraw money from atm\")\n",
    "            else:\n",
    "                print(\"You can not withdraw money from atm\")\n",
    "        else:\n",
    "            print(\"You can not withdraw money from atm\")\n",
    "    else:\n",
    "        print(\"You can not withdraw money from atm\")\n",
    "else:\n",
    "    print(\"You can not withdraw money from bank\")"
   ]
  }
 ],
 "metadata": {
  "kernelspec": {
   "display_name": "Python 3 (ipykernel)",
   "language": "python",
   "name": "python3"
  },
  "language_info": {
   "codemirror_mode": {
    "name": "ipython",
    "version": 3
   },
   "file_extension": ".py",
   "mimetype": "text/x-python",
   "name": "python",
   "nbconvert_exporter": "python",
   "pygments_lexer": "ipython3",
   "version": "3.13.5"
  }
 },
 "nbformat": 4,
 "nbformat_minor": 5
}
